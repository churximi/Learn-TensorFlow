{
 "cells": [
  {
   "cell_type": "code",
   "execution_count": 89,
   "metadata": {},
   "outputs": [],
   "source": [
    "import tensorflow as tf\n",
    "from iris_data import load_data, train_input_fn, eval_input_fn, SPECIES\n",
    "tf.logging.set_verbosity(tf.logging.ERROR)"
   ]
  },
  {
   "cell_type": "code",
   "execution_count": 90,
   "metadata": {},
   "outputs": [],
   "source": [
    "# 参数\n",
    "batch_size = 100\n",
    "train_steps = 1000"
   ]
  },
  {
   "cell_type": "code",
   "execution_count": 91,
   "metadata": {},
   "outputs": [],
   "source": [
    "# 加载数据\n",
    "(train_x, train_y), (test_x, test_y) = iris_data.load_data()"
   ]
  },
  {
   "cell_type": "code",
   "execution_count": 92,
   "metadata": {},
   "outputs": [],
   "source": [
    "# 特征列\n",
    "my_feature_columns = []\n",
    "for key in train_x.keys():\n",
    "    my_feature_columns.append(tf.feature_column.numeric_column(key=key))"
   ]
  },
  {
   "cell_type": "code",
   "execution_count": 93,
   "metadata": {},
   "outputs": [],
   "source": [
    "# 选择模型\n",
    "classifier = tf.estimator.DNNClassifier(\n",
    "    feature_columns=my_feature_columns,\n",
    "    hidden_units=[10, 10],  # 定义每个隐层的单元数（2个隐层，每层10个隐藏单元）\n",
    "    n_classes=3)  # 类别数"
   ]
  },
  {
   "cell_type": "code",
   "execution_count": 94,
   "metadata": {},
   "outputs": [
    {
     "data": {
      "text/plain": [
       "<tensorflow.python.estimator.canned.dnn.DNNClassifier at 0x1820d5f400>"
      ]
     },
     "execution_count": 94,
     "metadata": {},
     "output_type": "execute_result"
    }
   ],
   "source": [
    "# 训练，传入数据train_x即为特征，train_y即为标签\n",
    "classifier.train(\n",
    "    input_fn=lambda: train_input_fn(features=train_x,\n",
    "                                    labels=train_y,\n",
    "                                    batch_size=batch_size),\n",
    "    steps=train_steps)"
   ]
  },
  {
   "cell_type": "code",
   "execution_count": 95,
   "metadata": {},
   "outputs": [
    {
     "name": "stdout",
     "output_type": "stream",
     "text": [
      "Test set accuracy: 0.933\n"
     ]
    }
   ],
   "source": [
    "# 评估，返回eval_result是一个字典，有4个key：accuracy，average_loss，global_step，loss\n",
    "eval_result = classifier.evaluate(\n",
    "    input_fn=lambda: eval_input_fn(features=test_x,\n",
    "                                   labels=test_y,\n",
    "                                   batch_size=batch_size))\n",
    "\n",
    "print('Test set accuracy: {:0.3f}'.format(eval_result[\"accuracy\"]))"
   ]
  },
  {
   "cell_type": "code",
   "execution_count": 96,
   "metadata": {},
   "outputs": [],
   "source": [
    "# 预测数据，3个实例\n",
    "expected = ['Setosa', 'Versicolor', 'Virginica']  # 这3个实例的期望类别\n",
    "predict_x = {\n",
    "    'SepalLength': [5.1, 5.9, 6.9],\n",
    "    'SepalWidth': [3.3, 3.0, 3.1],\n",
    "    'PetalLength': [1.7, 4.2, 5.4],\n",
    "    'PetalWidth': [0.5, 1.5, 2.1],\n",
    "}"
   ]
  },
  {
   "cell_type": "code",
   "execution_count": 103,
   "metadata": {},
   "outputs": [],
   "source": [
    "# predictions包含所有的预测\n",
    "predictions = classifier.predict(\n",
    "    input_fn=lambda: eval_input_fn(features=predict_x,\n",
    "                                   labels=None,\n",
    "                                   batch_size=batch_size))"
   ]
  },
  {
   "cell_type": "code",
   "execution_count": 104,
   "metadata": {},
   "outputs": [
    {
     "name": "stdout",
     "output_type": "stream",
     "text": [
      "Prediction is \"Setosa\" (99.8%), expected \"Setosa\"\n",
      "Prediction is \"Versicolor\" (99.5%), expected \"Versicolor\"\n",
      "Prediction is \"Virginica\" (97.7%), expected \"Virginica\"\n"
     ]
    }
   ],
   "source": [
    "# 打印预测结果\n",
    "template = 'Prediction is \"{}\" ({:.1f}%), expected \"{}\"'  # 类别，概率，期望类别\n",
    "\n",
    "for pred_dict, expec in zip(predictions, expected):\n",
    "    class_id = pred_dict['class_ids'][0]  # 预测的标签编号\n",
    "    probability = pred_dict['probabilities'][class_id]  # 该类别的概率\n",
    "\n",
    "    print(template.format(SPECIES[class_id], 100 * probability, expec))"
   ]
  },
  {
   "cell_type": "code",
   "execution_count": null,
   "metadata": {},
   "outputs": [],
   "source": []
  }
 ],
 "metadata": {
  "kernelspec": {
   "display_name": "Python 3",
   "language": "python",
   "name": "python3"
  },
  "language_info": {
   "codemirror_mode": {
    "name": "ipython",
    "version": 3
   },
   "file_extension": ".py",
   "mimetype": "text/x-python",
   "name": "python",
   "nbconvert_exporter": "python",
   "pygments_lexer": "ipython3",
   "version": "3.6.4"
  }
 },
 "nbformat": 4,
 "nbformat_minor": 2
}
